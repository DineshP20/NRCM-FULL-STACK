{
 "cells": [
  {
   "cell_type": "code",
   "execution_count": 1,
   "metadata": {},
   "outputs": [
    {
     "name": "stdout",
     "output_type": "stream",
     "text": [
      "Fail\n"
     ]
    }
   ],
   "source": [
    "#Read Five marks tamil,english,maths,science and social and if all marks are greater than 35 ,print pass else print fail\n",
    "def check_pass_or_fail(marks):\n",
    "    for subject, mark in marks.items():\n",
    "        if mark <= 35:\n",
    "            return False\n",
    "    return True\n",
    "marks = {}\n",
    "subjects = [\"Tamil\", \"English\", \"Maths\", \"Science\", \"Social\"]\n",
    "for subject in subjects:\n",
    "    marks[subject] = int(input(f\"Enter marks for {subject}: \"))\n",
    "if check_pass_or_fail(marks):\n",
    "    print(\"Pass\")\n",
    "else:\n",
    "    print(\"Fail\")\n"
   ]
  },
  {
   "cell_type": "code",
   "execution_count": null,
   "metadata": {},
   "outputs": [],
   "source": []
  }
 ],
 "metadata": {
  "kernelspec": {
   "display_name": "Python 3",
   "language": "python",
   "name": "python3"
  },
  "language_info": {
   "codemirror_mode": {
    "name": "ipython",
    "version": 3
   },
   "file_extension": ".py",
   "mimetype": "text/x-python",
   "name": "python",
   "nbconvert_exporter": "python",
   "pygments_lexer": "ipython3",
   "version": "3.10.11"
  }
 },
 "nbformat": 4,
 "nbformat_minor": 2
}
